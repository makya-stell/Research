{
 "cells": [
  {
   "cell_type": "code",
   "execution_count": 1,
   "metadata": {
    "collapsed": true
   },
   "outputs": [],
   "source": [
    "# since we weren't able to resolve the tweets from mapbox directly,\n",
    "# this script performs the latter part of the analysis on the text file\n",
    "# of the tweet distances and resolutions\n",
    "from sklearn.feature_extraction.text import CountVectorizer\n",
    "from sklearn.feature_extraction.text import TfidfTransformer\n",
    "from sklearn.svm import SVR\n",
    "from sklearn.pipeline import make_pipeline\n",
    "from sklearn import cross_validation\n",
    "from geopy.distance import vincenty\n",
    "import matplotlib.pyplot as plt\n",
    "import datetime\n",
    "import json"
   ]
  },
  {
   "cell_type": "code",
   "execution_count": 2,
   "metadata": {
    "collapsed": true
   },
   "outputs": [],
   "source": [
    "with open('tweet_distances.txt','r') as distfile:\n",
    "    distances = [list((float(x.strip(\"(),\")) if 'None' not in x else None for line in distfile for x in line.split() ))]"
   ]
  },
  {
   "cell_type": "code",
   "execution_count": null,
   "metadata": {
    "collapsed": true
   },
   "outputs": [],
   "source": [
    "with open('gina-tweets.json','r') as tweetfile:\n",
    "    tweets = [json.loads(line) for line in tweetfile][:len(distances)]"
   ]
  },
  {
   "cell_type": "code",
   "execution_count": null,
   "metadata": {
    "collapsed": true
   },
   "outputs": [],
   "source": [
    "found_dists = [d for d in distances if d is not None]\n",
    "found_tweets = [t for i,t in enumerate(tweets) if distances[i] is not None]"
   ]
  },
  {
   "cell_type": "code",
   "execution_count": null,
   "metadata": {
    "collapsed": true
   },
   "outputs": [],
   "source": [
    "# now for some of the numbers\n",
    "# first the timestamps\n",
    "timestamps = [int(t['timestamp_ms']) for t in tweets]\n",
    "s = min(timestamps)/1000\n",
    "f = max(timestamps)/1000\n",
    "print('start: {0}\\tend{1}'.format(datetime.datetime.fromtimestamp(s),datetime.datetime.fromtimestamp(f)))\n",
    "# now the ratio of found tweets\n",
    "print(\"portion of found tweets: {0}\".format(len(found_tweets)/len(tweets)))"
   ]
  },
  {
   "cell_type": "code",
   "execution_count": null,
   "metadata": {
    "collapsed": true
   },
   "outputs": [],
   "source": [
    "# now the learning\n",
    "vectorizer = CountVectorizer(min_df=1,ngram_range=(1,2))\n",
    "transformer = TfidfTransformer()\n",
    "clf1 = SVR()\n",
    "coord1_pipe = make_pipeline(vectorizer,transformer,clf1)\n",
    "clf2 = SVR()\n",
    "coord2_pipe = make_pipeline(vectorizer,transformer,clf2)"
   ]
  },
  {
   "cell_type": "code",
   "execution_count": null,
   "metadata": {
    "collapsed": true
   },
   "outputs": [],
   "source": []
  }
 ],
 "metadata": {
  "kernelspec": {
   "display_name": "Python 3",
   "language": "python",
   "name": "python3"
  },
  "language_info": {
   "codemirror_mode": {
    "name": "ipython",
    "version": 3
   },
   "file_extension": ".py",
   "mimetype": "text/x-python",
   "name": "python",
   "nbconvert_exporter": "python",
   "pygments_lexer": "ipython3",
   "version": "3.5.1"
  }
 },
 "nbformat": 4,
 "nbformat_minor": 0
}
